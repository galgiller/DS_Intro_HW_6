{
 "cells": [
  {
   "cell_type": "markdown",
   "id": "f598a6c2",
   "metadata": {},
   "source": [
    "# Task Number 6"
   ]
  },
  {
   "cell_type": "markdown",
   "id": "7763093b",
   "metadata": {},
   "source": [
    "## Yuval Bar - 206011355"
   ]
  },
  {
   "cell_type": "markdown",
   "id": "f7a13ea0",
   "metadata": {},
   "source": [
    "## Gal Giller - 209264555"
   ]
  },
  {
   "cell_type": "code",
   "execution_count": 123,
   "id": "994db312",
   "metadata": {
    "scrolled": true
   },
   "outputs": [],
   "source": [
    "import requests\n",
    "import pandas as pd\n",
    "df = pd.read_csv(\"LP_destinations.csv\")"
   ]
  },
  {
   "cell_type": "markdown",
   "id": "407c8426",
   "metadata": {},
   "source": [
    "## 1"
   ]
  },
  {
   "cell_type": "code",
   "execution_count": 124,
   "id": "2f977ae8",
   "metadata": {},
   "outputs": [],
   "source": [
    "words = []\n",
    "for i in df[\"Description\"]:\n",
    "    words.append(len(i.split()))\n",
    "df[\"num_of_words\"] = words"
   ]
  },
  {
   "cell_type": "markdown",
   "id": "24c6d90f",
   "metadata": {},
   "source": [
    "## 2"
   ]
  },
  {
   "cell_type": "code",
   "execution_count": 125,
   "id": "9501c6d7",
   "metadata": {},
   "outputs": [],
   "source": [
    "import string\n",
    "No_punct_description = []\n",
    "for ele in df[\"Description\"]:\n",
    "    ele=ele.translate(str.maketrans('', '', string.punctuation))\n",
    "    ele=ele.replace('\\n', ' ')\n",
    "    No_punct_description.append(ele)\n",
    "df[\"No_punct_description\"] = No_punct_description"
   ]
  },
  {
   "cell_type": "markdown",
   "id": "36df5571",
   "metadata": {},
   "source": [
    "## 3"
   ]
  },
  {
   "cell_type": "code",
   "execution_count": 126,
   "id": "e8c69336",
   "metadata": {},
   "outputs": [],
   "source": [
    "has_restaurants = []\n",
    "for i in df[\"Description\"]:\n",
    "    new_desc = i.split()\n",
    "    desc = 0\n",
    "    for j in new_desc:\n",
    "        if j == 'restaurant':\n",
    "            desc += 1       \n",
    "    has_restaurants.append(desc)\n",
    "df[\"has_restaurants\"] = has_restaurants"
   ]
  },
  {
   "cell_type": "markdown",
   "id": "2e9ab985",
   "metadata": {},
   "source": [
    "## 4"
   ]
  },
  {
   "cell_type": "code",
   "execution_count": 127,
   "id": "fdfa9d50",
   "metadata": {},
   "outputs": [],
   "source": [
    "has_museums = []\n",
    "for i in df[\"Description\"]:\n",
    "    new_count = i.split()\n",
    "    count = 0\n",
    "    for j in new_count:\n",
    "        if j == 'museum':\n",
    "            count += 1       \n",
    "    has_museums.append(count)\n",
    "df[\"has_museums\"] = has_museums"
   ]
  },
  {
   "cell_type": "markdown",
   "id": "ccf4311f",
   "metadata": {},
   "source": [
    "## 5"
   ]
  },
  {
   "cell_type": "code",
   "execution_count": 128,
   "id": "c05a278e",
   "metadata": {},
   "outputs": [],
   "source": [
    "has_beaches = []\n",
    "for i in df[\"Description\"]:\n",
    "    new_count = i.split()\n",
    "    count = 0\n",
    "    for j in new_count:\n",
    "        if (j == 'beach') or (j == 'ocean')or (j == 'sea'):\n",
    "            count += 1       \n",
    "    has_beaches.append(count)\n",
    "df[\"has_beaches\"] = has_beaches"
   ]
  },
  {
   "cell_type": "code",
   "execution_count": 129,
   "id": "b28c28dd",
   "metadata": {},
   "outputs": [
    {
     "data": {
      "text/html": [
       "<div>\n",
       "<style scoped>\n",
       "    .dataframe tbody tr th:only-of-type {\n",
       "        vertical-align: middle;\n",
       "    }\n",
       "\n",
       "    .dataframe tbody tr th {\n",
       "        vertical-align: top;\n",
       "    }\n",
       "\n",
       "    .dataframe thead th {\n",
       "        text-align: right;\n",
       "    }\n",
       "</style>\n",
       "<table border=\"1\" class=\"dataframe\">\n",
       "  <thead>\n",
       "    <tr style=\"text-align: right;\">\n",
       "      <th></th>\n",
       "      <th>city</th>\n",
       "      <th>Country</th>\n",
       "      <th>Description</th>\n",
       "      <th>num_of_words</th>\n",
       "      <th>No_punct_description</th>\n",
       "      <th>has_restaurants</th>\n",
       "      <th>has_museums</th>\n",
       "      <th>has_beaches</th>\n",
       "    </tr>\n",
       "  </thead>\n",
       "  <tbody>\n",
       "    <tr>\n",
       "      <th>0</th>\n",
       "      <td>Antalya</td>\n",
       "      <td>Turkey</td>\n",
       "      <td>Once seen simply as the gateway to the Turkish...</td>\n",
       "      <td>112</td>\n",
       "      <td>Once seen simply as the gateway to the Turkish...</td>\n",
       "      <td>0</td>\n",
       "      <td>0</td>\n",
       "      <td>0</td>\n",
       "    </tr>\n",
       "    <tr>\n",
       "      <th>1</th>\n",
       "      <td>Athens</td>\n",
       "      <td>Greece</td>\n",
       "      <td>With equal measures of grunge and grace, Athen...</td>\n",
       "      <td>401</td>\n",
       "      <td>With equal measures of grunge and grace Athens...</td>\n",
       "      <td>1</td>\n",
       "      <td>0</td>\n",
       "      <td>0</td>\n",
       "    </tr>\n",
       "    <tr>\n",
       "      <th>2</th>\n",
       "      <td>Ayia-napa</td>\n",
       "      <td>Cyprus</td>\n",
       "      <td>Endless blue-sky days and a coastline riddled ...</td>\n",
       "      <td>147</td>\n",
       "      <td>Endless bluesky days and a coastline riddled w...</td>\n",
       "      <td>0</td>\n",
       "      <td>0</td>\n",
       "      <td>1</td>\n",
       "    </tr>\n",
       "    <tr>\n",
       "      <th>3</th>\n",
       "      <td>Bangkok</td>\n",
       "      <td>Thailand</td>\n",
       "      <td>Same same, but different. This Thailish T-shir...</td>\n",
       "      <td>398</td>\n",
       "      <td>Same same but different This Thailish Tshirt p...</td>\n",
       "      <td>0</td>\n",
       "      <td>0</td>\n",
       "      <td>0</td>\n",
       "    </tr>\n",
       "    <tr>\n",
       "      <th>4</th>\n",
       "      <td>Barcelona</td>\n",
       "      <td>Spain</td>\n",
       "      <td>Barcelona is an enchanting seaside city with b...</td>\n",
       "      <td>427</td>\n",
       "      <td>Barcelona is an enchanting seaside city with b...</td>\n",
       "      <td>0</td>\n",
       "      <td>0</td>\n",
       "      <td>1</td>\n",
       "    </tr>\n",
       "    <tr>\n",
       "      <th>...</th>\n",
       "      <td>...</td>\n",
       "      <td>...</td>\n",
       "      <td>...</td>\n",
       "      <td>...</td>\n",
       "      <td>...</td>\n",
       "      <td>...</td>\n",
       "      <td>...</td>\n",
       "      <td>...</td>\n",
       "    </tr>\n",
       "    <tr>\n",
       "      <th>71</th>\n",
       "      <td>Venice</td>\n",
       "      <td>Italy</td>\n",
       "      <td>Imagine the audacity of building a city of mar...</td>\n",
       "      <td>420</td>\n",
       "      <td>Imagine the audacity of building a city of mar...</td>\n",
       "      <td>0</td>\n",
       "      <td>0</td>\n",
       "      <td>0</td>\n",
       "    </tr>\n",
       "    <tr>\n",
       "      <th>72</th>\n",
       "      <td>Vienna</td>\n",
       "      <td>Austria</td>\n",
       "      <td>Baroque streetscapes and imperial palaces set ...</td>\n",
       "      <td>418</td>\n",
       "      <td>Baroque streetscapes and imperial palaces set ...</td>\n",
       "      <td>0</td>\n",
       "      <td>0</td>\n",
       "      <td>0</td>\n",
       "    </tr>\n",
       "    <tr>\n",
       "      <th>73</th>\n",
       "      <td>Warsaw</td>\n",
       "      <td>Poland</td>\n",
       "      <td>A phoenix arisen from the ashes, Poland's capi...</td>\n",
       "      <td>414</td>\n",
       "      <td>A phoenix arisen from the ashes Polands capita...</td>\n",
       "      <td>0</td>\n",
       "      <td>1</td>\n",
       "      <td>0</td>\n",
       "    </tr>\n",
       "    <tr>\n",
       "      <th>74</th>\n",
       "      <td>Zakynthos</td>\n",
       "      <td>Greece</td>\n",
       "      <td>Zakynthos, also known by its Italian name Zant...</td>\n",
       "      <td>118</td>\n",
       "      <td>Zakynthos also known by its Italian name Zante...</td>\n",
       "      <td>0</td>\n",
       "      <td>0</td>\n",
       "      <td>0</td>\n",
       "    </tr>\n",
       "    <tr>\n",
       "      <th>75</th>\n",
       "      <td>Zurich</td>\n",
       "      <td>Switzerland</td>\n",
       "      <td>Culturally vibrant, efficiently run and attrac...</td>\n",
       "      <td>119</td>\n",
       "      <td>Culturally vibrant efficiently run and attract...</td>\n",
       "      <td>0</td>\n",
       "      <td>0</td>\n",
       "      <td>0</td>\n",
       "    </tr>\n",
       "  </tbody>\n",
       "</table>\n",
       "<p>76 rows × 8 columns</p>\n",
       "</div>"
      ],
      "text/plain": [
       "         city      Country                                        Description  \\\n",
       "0     Antalya       Turkey  Once seen simply as the gateway to the Turkish...   \n",
       "1      Athens       Greece  With equal measures of grunge and grace, Athen...   \n",
       "2   Ayia-napa       Cyprus  Endless blue-sky days and a coastline riddled ...   \n",
       "3     Bangkok     Thailand  Same same, but different. This Thailish T-shir...   \n",
       "4   Barcelona        Spain  Barcelona is an enchanting seaside city with b...   \n",
       "..        ...          ...                                                ...   \n",
       "71     Venice        Italy  Imagine the audacity of building a city of mar...   \n",
       "72     Vienna      Austria  Baroque streetscapes and imperial palaces set ...   \n",
       "73     Warsaw       Poland  A phoenix arisen from the ashes, Poland's capi...   \n",
       "74  Zakynthos       Greece  Zakynthos, also known by its Italian name Zant...   \n",
       "75     Zurich  Switzerland  Culturally vibrant, efficiently run and attrac...   \n",
       "\n",
       "    num_of_words                               No_punct_description  \\\n",
       "0            112  Once seen simply as the gateway to the Turkish...   \n",
       "1            401  With equal measures of grunge and grace Athens...   \n",
       "2            147  Endless bluesky days and a coastline riddled w...   \n",
       "3            398  Same same but different This Thailish Tshirt p...   \n",
       "4            427  Barcelona is an enchanting seaside city with b...   \n",
       "..           ...                                                ...   \n",
       "71           420  Imagine the audacity of building a city of mar...   \n",
       "72           418  Baroque streetscapes and imperial palaces set ...   \n",
       "73           414  A phoenix arisen from the ashes Polands capita...   \n",
       "74           118  Zakynthos also known by its Italian name Zante...   \n",
       "75           119  Culturally vibrant efficiently run and attract...   \n",
       "\n",
       "    has_restaurants  has_museums  has_beaches  \n",
       "0                 0            0            0  \n",
       "1                 1            0            0  \n",
       "2                 0            0            1  \n",
       "3                 0            0            0  \n",
       "4                 0            0            1  \n",
       "..              ...          ...          ...  \n",
       "71                0            0            0  \n",
       "72                0            0            0  \n",
       "73                0            1            0  \n",
       "74                0            0            0  \n",
       "75                0            0            0  \n",
       "\n",
       "[76 rows x 8 columns]"
      ]
     },
     "execution_count": 129,
     "metadata": {},
     "output_type": "execute_result"
    }
   ],
   "source": [
    "df"
   ]
  },
  {
   "cell_type": "markdown",
   "id": "b5c5c567",
   "metadata": {},
   "source": [
    "## 6"
   ]
  },
  {
   "cell_type": "code",
   "execution_count": 130,
   "id": "cfb774b9",
   "metadata": {},
   "outputs": [
    {
     "data": {
      "text/plain": [
       "276.5263157894737"
      ]
     },
     "execution_count": 130,
     "metadata": {},
     "output_type": "execute_result"
    }
   ],
   "source": [
    "avg = df.num_of_words.mean()\n",
    "avg"
   ]
  },
  {
   "cell_type": "markdown",
   "id": "1c67d5da",
   "metadata": {},
   "source": [
    "## 7"
   ]
  },
  {
   "cell_type": "code",
   "execution_count": 131,
   "id": "b741af29",
   "metadata": {},
   "outputs": [
    {
     "data": {
      "text/plain": [
       "525"
      ]
     },
     "execution_count": 131,
     "metadata": {},
     "output_type": "execute_result"
    }
   ],
   "source": [
    "maximum = df.num_of_words.max()\n",
    "maximum"
   ]
  },
  {
   "cell_type": "markdown",
   "id": "d7b0b24f",
   "metadata": {},
   "source": [
    "## 8"
   ]
  },
  {
   "cell_type": "code",
   "execution_count": 132,
   "id": "cd331fcf",
   "metadata": {},
   "outputs": [
    {
     "data": {
      "image/png": "[encoded data removed]",
      "text/plain": [
       "<Figure size 432x288 with 1 Axes>"
      ]
     },
     "metadata": {
      "needs_background": "light"
     },
     "output_type": "display_data"
    }
   ],
   "source": [
    "import numpy as np\n",
    "import matplotlib.pyplot as plt\n",
    "x = np.array(words)\n",
    "plt.hist(x)\n",
    "plt.show()"
   ]
  },
  {
   "cell_type": "markdown",
   "id": "2e98aba4",
   "metadata": {},
   "source": [
    "## 9"
   ]
  },
  {
   "cell_type": "code",
   "execution_count": 133,
   "id": "6f48bcbd",
   "metadata": {},
   "outputs": [
    {
     "data": {
      "image/png": "[encoded data removed]",
      "text/plain": [
       "<Figure size 432x288 with 1 Axes>"
      ]
     },
     "metadata": {
      "needs_background": "light"
     },
     "output_type": "display_data"
    }
   ],
   "source": [
    "x = np.array(has_beaches)\n",
    "y = np.array(has_restaurants)\n",
    "plt.scatter(x,y)\n",
    "plt.xlabel(\"has_beaches\")\n",
    "plt.ylabel(\"has_restaurants\")\n",
    "plt.title(\"The relationship between number of beaches and number of restaurants\")\n",
    "plt.show()"
   ]
  },
  {
   "cell_type": "markdown",
   "id": "5ac0ebfd",
   "metadata": {},
   "source": [
    "## 10"
   ]
  },
  {
   "cell_type": "code",
   "execution_count": 134,
   "id": "04f8fd83",
   "metadata": {},
   "outputs": [
    {
     "data": {
      "image/png": "[encoded data removed]",
      "text/plain": [
       "<Figure size 432x288 with 1 Axes>"
      ]
     },
     "metadata": {
      "needs_background": "light"
     },
     "output_type": "display_data"
    }
   ],
   "source": [
    "x = np.array(has_beaches)\n",
    "y = np.array(has_museums)\n",
    "plt.scatter(x,y)\n",
    "plt.xlabel(\"has_beaches\")\n",
    "plt.ylabel(\"has_museums\")\n",
    "plt.title(\"The relationship between number of beaches and number of museums\")\n",
    "plt.show()"
   ]
  },
  {
   "cell_type": "code",
   "execution_count": null,
   "id": "87744ad5",
   "metadata": {},
   "outputs": [],
   "source": []
  }
 ],
 "metadata": {
  "kernelspec": {
   "display_name": "Python 3 (ipykernel)",
   "language": "python",
   "name": "python3"
  },
  "language_info": {
   "codemirror_mode": {
    "name": "ipython",
    "version": 3
   },
   "file_extension": ".py",
   "mimetype": "text/x-python",
   "name": "python",
   "nbconvert_exporter": "python",
   "pygments_lexer": "ipython3",
   "version": "3.9.7"
  }
 },
 "nbformat": 4,
 "nbformat_minor": 5
}
